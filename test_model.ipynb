{
 "cells": [
  {
   "cell_type": "code",
   "execution_count": 3,
   "id": "208baa3b-a11c-46b1-a827-af5e15acfaf5",
   "metadata": {},
   "outputs": [
    {
     "name": "stderr",
     "output_type": "stream",
     "text": [
      "I0000 00:00:1750436085.411357   21892 gl_context_egl.cc:85] Successfully initialized EGL. Major : 1 Minor: 5\n",
      "I0000 00:00:1750436085.422337   31217 gl_context.cc:369] GL version: 3.2 (OpenGL ES 3.2 Mesa 24.2.8-1ubuntu1~24.04.1), renderer: Mesa Intel(R) HD Graphics 520 (SKL GT2)\n",
      "W0000 00:00:1750436085.457134   31213 inference_feedback_manager.cc:114] Feedback manager requires a model with a single signature inference. Disabling support for feedback tensors.\n",
      "W0000 00:00:1750436085.523874   31214 inference_feedback_manager.cc:114] Feedback manager requires a model with a single signature inference. Disabling support for feedback tensors.\n",
      "Warning: Ignoring XDG_SESSION_TYPE=wayland on Gnome. Use QT_QPA_PLATFORM=wayland to run on Wayland anyway.\n"
     ]
    }
   ],
   "source": [
    "import pickle\n",
    "import cv2\n",
    "import numpy as np\n",
    "import mediapipe as mp\n",
    "\n",
    "mp_face_mesh = mp.solutions.face_mesh\n",
    "face_mesh = mp_face_mesh.FaceMesh(static_image_mode=True)\n",
    "\n",
    "def get_landmark(img):\n",
    "    img = cv2.cvtColor(img, cv2.COLOR_BGR2RGB)\n",
    "    img = cv2.resize(img, (224, 224))\n",
    "    result = face_mesh.process(img)\n",
    "    \n",
    "    if result.multi_face_landmarks:\n",
    "        face_landmarks = result.multi_face_landmarks[0]\n",
    "        landmarks = []\n",
    "        for lm in face_landmarks.landmark:\n",
    "            landmarks.extend([lm.x, lm.y, lm.z])\n",
    "        return np.array(landmarks).reshape(1, -1)  # Make it 2D for predict()\n",
    "    \n",
    "    return None\n",
    "\n",
    "def main():\n",
    "    vid = cv2.VideoCapture(0)\n",
    "    labels = [\"angry\", \"happy\", \"neutral\", \"sad\", \"surprise\"]\n",
    "\n",
    "    with open(\"model_face.pkl\", \"rb\") as f:\n",
    "        model = pickle.load(f)\n",
    "\n",
    "    while True:\n",
    "        ret, frame = vid.read()\n",
    "        if not ret:\n",
    "            break\n",
    "\n",
    "        landmark = get_landmark(frame)\n",
    "        if landmark is not None:\n",
    "            res = model.predict(landmark)\n",
    "            text = labels[res[0]]\n",
    "            cv2.putText(frame, text, (50, 50), cv2.FONT_HERSHEY_SIMPLEX, 1, (0, 255, 0), 2)\n",
    "\n",
    "        cv2.imshow(\"Webcam\", frame)\n",
    "\n",
    "        if cv2.waitKey(1) & 0xFF == ord('q'):\n",
    "            break\n",
    "\n",
    "    vid.release()\n",
    "    cv2.destroyAllWindows()\n",
    "\n",
    "if __name__ == \"__main__\":\n",
    "    main()\n"
   ]
  },
  {
   "cell_type": "code",
   "execution_count": null,
   "id": "f011888c-8f98-4152-be13-504bd5393238",
   "metadata": {},
   "outputs": [],
   "source": []
  }
 ],
 "metadata": {
  "kernelspec": {
   "display_name": "Python 3 (ipykernel)",
   "language": "python",
   "name": "python3"
  },
  "language_info": {
   "codemirror_mode": {
    "name": "ipython",
    "version": 3
   },
   "file_extension": ".py",
   "mimetype": "text/x-python",
   "name": "python",
   "nbconvert_exporter": "python",
   "pygments_lexer": "ipython3",
   "version": "3.12.3"
  }
 },
 "nbformat": 4,
 "nbformat_minor": 5
}
