{
 "cells": [
  {
   "cell_type": "code",
   "execution_count": 11,
   "id": "85b437dc-6f21-46a8-a50c-2dcb79802c50",
   "metadata": {},
   "outputs": [
    {
     "name": "stderr",
     "output_type": "stream",
     "text": [
      "I0000 00:00:1750434605.069795   28556 gl_context_egl.cc:85] Successfully initialized EGL. Major : 1 Minor: 5\n",
      "I0000 00:00:1750434605.083111   29490 gl_context.cc:369] GL version: 3.2 (OpenGL ES 3.2 Mesa 24.2.8-1ubuntu1~24.04.1), renderer: Mesa Intel(R) HD Graphics 520 (SKL GT2)\n",
      "W0000 00:00:1750434605.134736   29486 inference_feedback_manager.cc:114] Feedback manager requires a model with a single signature inference. Disabling support for feedback tensors.\n",
      "W0000 00:00:1750434605.220656   29485 inference_feedback_manager.cc:114] Feedback manager requires a model with a single signature inference. Disabling support for feedback tensors.\n",
      "Processing angry: 100%|███████████████████████| 250/250 [00:09<00:00, 26.88it/s]\n",
      "Processing happy: 100%|███████████████████████| 250/250 [00:07<00:00, 32.12it/s]\n",
      "Processing neutral: 100%|█████████████████████| 250/250 [00:10<00:00, 23.13it/s]\n",
      "Processing sad: 100%|█████████████████████████| 250/250 [00:11<00:00, 21.24it/s]\n",
      "Processing surprise: 100%|████████████████████| 250/250 [00:09<00:00, 25.32it/s]\n",
      "/home/mehdi-zain/.local/share/pipx/venvs/notebook/lib/python3.12/site-packages/xgboost/training.py:183: UserWarning: [20:50:55] WARNING: /workspace/src/learner.cc:738: \n",
      "Parameters: { \"use_label_encoder\" } are not used.\n",
      "\n",
      "  bst.update(dtrain, iteration=i, fobj=obj)\n"
     ]
    },
    {
     "name": "stdout",
     "output_type": "stream",
     "text": [
      "The accuracy score is: 0.5521739130434783\n",
      "Confusion matrix:\n",
      "[[19  5  5  9  2]\n",
      " [ 4 26  0  3  6]\n",
      " [ 7  1 32 13  5]\n",
      " [ 8  7 12 20  3]\n",
      " [ 8  4  0  1 30]]\n"
     ]
    }
   ],
   "source": [
    "import numpy as np\n",
    "import mediapipe as mp\n",
    "import cv2\n",
    "import os\n",
    "from sklearn.model_selection import train_test_split\n",
    "from sklearn.svm import SVC \n",
    "import xgboost as xgb\n",
    "from sklearn.metrics import accuracy_score, confusion_matrix\n",
    "import pickle\n",
    "from tqdm import tqdm  # ✅ tqdm for progress bar\n",
    "\n",
    "mp_face_mesh = mp.solutions.face_mesh\n",
    "face_mesh = mp_face_mesh.FaceMesh(static_image_mode=True)\n",
    "path = \"./face_ds\"\n",
    "categories = ['angry', 'happy', 'neutral', 'sad', 'surprise']\n",
    "\n",
    "features = []\n",
    "labels = []\n",
    "\n",
    "# ✅ Prepare data with tqdm progress bar\n",
    "for category_index, category in enumerate(categories):\n",
    "    new_path = os.path.join(path, category)\n",
    "    for file in tqdm(os.listdir(new_path), desc=f\"Processing {category}\"):\n",
    "        img = cv2.imread(os.path.join(new_path, file))\n",
    "        if img is None:\n",
    "            continue\n",
    "        img = cv2.cvtColor(img, cv2.COLOR_BGR2RGB)\n",
    "        img=cv2.resize(img,(224,224))\n",
    "        result = face_mesh.process(img)\n",
    "        if result.multi_face_landmarks:\n",
    "            face_landmarks = result.multi_face_landmarks[0]\n",
    "            landmarks = []\n",
    "            for lm in face_landmarks.landmark:\n",
    "                landmarks.extend([lm.x, lm.y, lm.z])\n",
    "            if len(landmarks) == 1404:\n",
    "                features.append(landmarks)\n",
    "                labels.append(category_index)\n",
    "\n",
    "# split train and test\n",
    "features = np.asarray(features)\n",
    "labels = np.asarray(labels)\n",
    "\n",
    "x_train, x_test, y_train, y_test = train_test_split(features, labels, test_size=0.2, shuffle=True, stratify=labels)\n",
    "\n",
    "# train model\n",
    "model = xgb.XGBClassifier(n_estimators=100, max_depth=5, learning_rate=0.1, use_label_encoder=False, eval_metric='mlogloss')\n",
    "model.fit(x_train, y_train)\n",
    "\n",
    "# test model\n",
    "y_pred = model.predict(x_test)\n",
    "\n",
    "# accuracy score and confusion matrix\n",
    "print(f\"The accuracy score is: {accuracy_score(y_pred, y_test)}\")\n",
    "print(\"Confusion matrix:\")\n",
    "print(confusion_matrix(y_pred, y_test))\n",
    "\n",
    "# save model\n",
    "with open(\"model_face.pkl\", \"wb\") as f:\n",
    "    pickle.dump(model, f)\n"
   ]
  },
  {
   "cell_type": "code",
   "execution_count": 10,
   "id": "865cb60e-4ebc-405d-8f29-6b9ebeb0e6c4",
   "metadata": {},
   "outputs": [],
   "source": [
    "import xgboost as xg"
   ]
  },
  {
   "cell_type": "code",
   "execution_count": null,
   "id": "155368e1-7778-429e-856c-8ccb78612a73",
   "metadata": {},
   "outputs": [],
   "source": []
  }
 ],
 "metadata": {
  "kernelspec": {
   "display_name": "Python 3 (ipykernel)",
   "language": "python",
   "name": "python3"
  },
  "language_info": {
   "codemirror_mode": {
    "name": "ipython",
    "version": 3
   },
   "file_extension": ".py",
   "mimetype": "text/x-python",
   "name": "python",
   "nbconvert_exporter": "python",
   "pygments_lexer": "ipython3",
   "version": "3.12.3"
  }
 },
 "nbformat": 4,
 "nbformat_minor": 5
}
